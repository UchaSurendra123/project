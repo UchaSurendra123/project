{
 "cells": [
  {
   "cell_type": "code",
   "execution_count": 1,
   "id": "624e941f",
   "metadata": {},
   "outputs": [
    {
     "name": "stdout",
     "output_type": "stream",
     "text": [
      "Requirement already satisfied: numpy in c:\\users\\durga reddy\\anaconda3\\lib\\site-packages (1.24.3)\n"
     ]
    }
   ],
   "source": [
    "!pip install numpy"
   ]
  },
  {
   "cell_type": "code",
   "execution_count": 2,
   "id": "30adaafd",
   "metadata": {},
   "outputs": [],
   "source": [
    "import numpy as np"
   ]
  },
  {
   "cell_type": "code",
   "execution_count": 3,
   "id": "98e3b339",
   "metadata": {},
   "outputs": [
    {
     "name": "stdout",
     "output_type": "stream",
     "text": [
      "Requirement already satisfied: pandas in c:\\users\\durga reddy\\anaconda3\\lib\\site-packages (2.0.3)\n",
      "Requirement already satisfied: python-dateutil>=2.8.2 in c:\\users\\durga reddy\\anaconda3\\lib\\site-packages (from pandas) (2.8.2)\n",
      "Requirement already satisfied: pytz>=2020.1 in c:\\users\\durga reddy\\anaconda3\\lib\\site-packages (from pandas) (2023.3.post1)\n",
      "Requirement already satisfied: tzdata>=2022.1 in c:\\users\\durga reddy\\anaconda3\\lib\\site-packages (from pandas) (2023.3)\n",
      "Requirement already satisfied: numpy>=1.21.0 in c:\\users\\durga reddy\\anaconda3\\lib\\site-packages (from pandas) (1.24.3)\n",
      "Requirement already satisfied: six>=1.5 in c:\\users\\durga reddy\\anaconda3\\lib\\site-packages (from python-dateutil>=2.8.2->pandas) (1.16.0)\n"
     ]
    }
   ],
   "source": [
    "!pip install pandas"
   ]
  },
  {
   "cell_type": "code",
   "execution_count": 7,
   "id": "e8211ea0",
   "metadata": {},
   "outputs": [],
   "source": [
    "import pandas as pd\n",
    "Hourly_data=pd.read_csv(\"AEP_hourly.csv\")"
   ]
  },
  {
   "cell_type": "code",
   "execution_count": 8,
   "id": "510a258b",
   "metadata": {},
   "outputs": [
    {
     "name": "stdout",
     "output_type": "stream",
     "text": [
      "              Datetime   AEP_MW\n",
      "0  2004-12-31 01:00:00  13478.0\n",
      "1  2004-12-31 02:00:00  12865.0\n",
      "2  2004-12-31 03:00:00  12577.0\n",
      "3  2004-12-31 04:00:00  12517.0\n",
      "4  2004-12-31 05:00:00  12670.0\n"
     ]
    }
   ],
   "source": [
    "print(Hourly_data.head())"
   ]
  },
  {
   "cell_type": "code",
   "execution_count": 9,
   "id": "0651ed3b",
   "metadata": {},
   "outputs": [],
   "source": [
    "Daily_data=pd.read_csv(\"daily_values_ee.csv\")"
   ]
  },
  {
   "cell_type": "code",
   "execution_count": 11,
   "id": "8b3bfae3",
   "metadata": {},
   "outputs": [
    {
     "name": "stdout",
     "output_type": "stream",
     "text": [
      "         Date  53_kW_mean  53_kW_max  71_kW_mean  71_kW_max  71A_kW_mean  \\\n",
      "0  08/06/2018       52.79      67.96       89.46     115.07       111.90   \n",
      "1  09/06/2018       37.91      48.90       56.49      82.70        64.58   \n",
      "2  10/06/2018       32.76      42.79       46.89      75.51        63.68   \n",
      "3  11/06/2018       50.77      64.72       76.27     129.45       117.30   \n",
      "4  12/06/2018       50.02      62.57       91.19     115.07       131.07   \n",
      "\n",
      "   71A_kW_max  83_kW_mean  83_kW_max  totalkW_mean  ...  83_kW_time_max  \\\n",
      "0      151.02       92.41     160.01        346.46  ...           08:00   \n",
      "1       82.70       38.87      53.22        197.77  ...           17:00   \n",
      "2       68.32       31.72      37.40        175.04  ...           16:00   \n",
      "3      197.77       98.35     174.40        342.68  ...           14:00   \n",
      "4      201.37       99.07     170.80        371.45  ...           11:00   \n",
      "\n",
      "   71_71AkW_time_max  totalkW_time_max  CDD_15  HDD_25  NWD  temp_max  \\\n",
      "0              11:00             11:00     1.2     9.1    0      20.8   \n",
      "1              15:00             01:00     1.7     8.9    0      19.7   \n",
      "2              01:00             02:00     4.1     5.9    0      24.5   \n",
      "3              17:00             17:00     7.1     3.2    0      27.8   \n",
      "4              15:00             15:00     8.3     2.2    0      27.9   \n",
      "\n",
      "   insolation  temp_mean     RH  \n",
      "0         0.6      16.10  83.25  \n",
      "1         0.6      15.82  86.75  \n",
      "2         2.3      19.14  83.25  \n",
      "3         6.2      21.58  71.25  \n",
      "4         4.9      23.46  59.00  \n",
      "\n",
      "[5 rows x 34 columns]\n"
     ]
    }
   ],
   "source": [
    "print(Daily_data.head())"
   ]
  },
  {
   "cell_type": "markdown",
   "id": "35af5d54",
   "metadata": {},
   "source": [
    "## data pre processing"
   ]
  },
  {
   "cell_type": "code",
   "execution_count": 13,
   "id": "f507b922",
   "metadata": {},
   "outputs": [],
   "source": [
    "Hourly_data.dropna(inplace=True)\n",
    "Daily_data.dropna(inplace=True)"
   ]
  },
  {
   "cell_type": "code",
   "execution_count": null,
   "id": "d078c2c3",
   "metadata": {},
   "outputs": [],
   "source": []
  }
 ],
 "metadata": {
  "kernelspec": {
   "display_name": "Python 3 (ipykernel)",
   "language": "python",
   "name": "python3"
  },
  "language_info": {
   "codemirror_mode": {
    "name": "ipython",
    "version": 3
   },
   "file_extension": ".py",
   "mimetype": "text/x-python",
   "name": "python",
   "nbconvert_exporter": "python",
   "pygments_lexer": "ipython3",
   "version": "3.11.5"
  }
 },
 "nbformat": 4,
 "nbformat_minor": 5
}
